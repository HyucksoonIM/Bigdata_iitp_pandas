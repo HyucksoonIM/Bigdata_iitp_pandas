{
 "cells": [
  {
   "cell_type": "markdown",
   "metadata": {},
   "source": [
    "<h1> 파일 불러오기"
   ]
  },
  {
   "cell_type": "code",
   "execution_count": 2,
   "metadata": {},
   "outputs": [],
   "source": [
    "import pandas as pd\n",
    "import numpy as np\n"
   ]
  },
  {
   "cell_type": "code",
   "execution_count": 12,
   "metadata": {},
   "outputs": [
    {
     "data": {
      "text/html": [
       "<div>\n",
       "<style scoped>\n",
       "    .dataframe tbody tr th:only-of-type {\n",
       "        vertical-align: middle;\n",
       "    }\n",
       "\n",
       "    .dataframe tbody tr th {\n",
       "        vertical-align: top;\n",
       "    }\n",
       "\n",
       "    .dataframe thead th {\n",
       "        text-align: right;\n",
       "    }\n",
       "</style>\n",
       "<table border=\"1\" class=\"dataframe\">\n",
       "  <thead>\n",
       "    <tr style=\"text-align: right;\">\n",
       "      <th></th>\n",
       "      <th>연도</th>\n",
       "      <th>넥센</th>\n",
       "      <th>두산</th>\n",
       "      <th>롯데</th>\n",
       "      <th>삼성</th>\n",
       "      <th>한화</th>\n",
       "      <th>KIA</th>\n",
       "      <th>KT</th>\n",
       "      <th>LG</th>\n",
       "      <th>NC</th>\n",
       "      <th>SK</th>\n",
       "    </tr>\n",
       "  </thead>\n",
       "  <tbody>\n",
       "    <tr>\n",
       "      <th>0</th>\n",
       "      <td>2013</td>\n",
       "      <td>0.571</td>\n",
       "      <td>0.568</td>\n",
       "      <td>0.532</td>\n",
       "      <td>0.595</td>\n",
       "      <td>0.331</td>\n",
       "      <td>0.408</td>\n",
       "      <td>NaN</td>\n",
       "      <td>0.578</td>\n",
       "      <td>0.419</td>\n",
       "      <td>0.496</td>\n",
       "    </tr>\n",
       "    <tr>\n",
       "      <th>1</th>\n",
       "      <td>2014</td>\n",
       "      <td>0.619</td>\n",
       "      <td>0.465</td>\n",
       "      <td>0.457</td>\n",
       "      <td>0.624</td>\n",
       "      <td>0.389</td>\n",
       "      <td>0.422</td>\n",
       "      <td>NaN</td>\n",
       "      <td>0.492</td>\n",
       "      <td>0.551</td>\n",
       "      <td>0.484</td>\n",
       "    </tr>\n",
       "    <tr>\n",
       "      <th>2</th>\n",
       "      <td>2015</td>\n",
       "      <td>0.545</td>\n",
       "      <td>0.549</td>\n",
       "      <td>0.462</td>\n",
       "      <td>0.611</td>\n",
       "      <td>0.472</td>\n",
       "      <td>0.465</td>\n",
       "      <td>0.364</td>\n",
       "      <td>0.451</td>\n",
       "      <td>0.596</td>\n",
       "      <td>0.486</td>\n",
       "    </tr>\n",
       "    <tr>\n",
       "      <th>3</th>\n",
       "      <td>2016</td>\n",
       "      <td>0.538</td>\n",
       "      <td>0.650</td>\n",
       "      <td>0.458</td>\n",
       "      <td>0.455</td>\n",
       "      <td>0.468</td>\n",
       "      <td>0.490</td>\n",
       "      <td>0.373</td>\n",
       "      <td>0.500</td>\n",
       "      <td>0.589</td>\n",
       "      <td>0.479</td>\n",
       "    </tr>\n",
       "    <tr>\n",
       "      <th>4</th>\n",
       "      <td>2017</td>\n",
       "      <td>0.486</td>\n",
       "      <td>0.596</td>\n",
       "      <td>0.563</td>\n",
       "      <td>0.396</td>\n",
       "      <td>0.430</td>\n",
       "      <td>0.608</td>\n",
       "      <td>0.347</td>\n",
       "      <td>0.489</td>\n",
       "      <td>0.560</td>\n",
       "      <td>0.524</td>\n",
       "    </tr>\n",
       "    <tr>\n",
       "      <th>5</th>\n",
       "      <td>2018</td>\n",
       "      <td>0.521</td>\n",
       "      <td>0.646</td>\n",
       "      <td>0.479</td>\n",
       "      <td>0.486</td>\n",
       "      <td>0.535</td>\n",
       "      <td>0.486</td>\n",
       "      <td>0.418</td>\n",
       "      <td>0.476</td>\n",
       "      <td>0.406</td>\n",
       "      <td>0.545</td>\n",
       "    </tr>\n",
       "  </tbody>\n",
       "</table>\n",
       "</div>"
      ],
      "text/plain": [
       "     연도     넥센     두산     롯데     삼성     한화    KIA     KT     LG     NC     SK\n",
       "0  2013  0.571  0.568  0.532  0.595  0.331  0.408    NaN  0.578  0.419  0.496\n",
       "1  2014  0.619  0.465  0.457  0.624  0.389  0.422    NaN  0.492  0.551  0.484\n",
       "2  2015  0.545  0.549  0.462  0.611  0.472  0.465  0.364  0.451  0.596  0.486\n",
       "3  2016  0.538  0.650  0.458  0.455  0.468  0.490  0.373  0.500  0.589  0.479\n",
       "4  2017  0.486  0.596  0.563  0.396  0.430  0.608  0.347  0.489  0.560  0.524\n",
       "5  2018  0.521  0.646  0.479  0.486  0.535  0.486  0.418  0.476  0.406  0.545"
      ]
     },
     "execution_count": 12,
     "metadata": {},
     "output_type": "execute_result"
    }
   ],
   "source": [
    "pd.read_csv('C:/pro_baseball.csv', encoding=\"cp949\")"
   ]
  },
  {
   "cell_type": "code",
   "execution_count": 15,
   "metadata": {},
   "outputs": [
    {
     "data": {
      "text/html": [
       "<div>\n",
       "<style scoped>\n",
       "    .dataframe tbody tr th:only-of-type {\n",
       "        vertical-align: middle;\n",
       "    }\n",
       "\n",
       "    .dataframe tbody tr th {\n",
       "        vertical-align: top;\n",
       "    }\n",
       "\n",
       "    .dataframe thead th {\n",
       "        text-align: right;\n",
       "    }\n",
       "</style>\n",
       "<table border=\"1\" class=\"dataframe\">\n",
       "  <thead>\n",
       "    <tr style=\"text-align: right;\">\n",
       "      <th></th>\n",
       "      <th>Weight</th>\n",
       "      <th>Height</th>\n",
       "    </tr>\n",
       "  </thead>\n",
       "  <tbody>\n",
       "    <tr>\n",
       "      <th>Yoon</th>\n",
       "      <td>72</td>\n",
       "      <td>175</td>\n",
       "    </tr>\n",
       "    <tr>\n",
       "      <th>Kwon</th>\n",
       "      <td>77</td>\n",
       "      <td>182</td>\n",
       "    </tr>\n",
       "    <tr>\n",
       "      <th>Shin</th>\n",
       "      <td>52</td>\n",
       "      <td>163</td>\n",
       "    </tr>\n",
       "    <tr>\n",
       "      <th>Kim</th>\n",
       "      <td>69</td>\n",
       "      <td>170</td>\n",
       "    </tr>\n",
       "  </tbody>\n",
       "</table>\n",
       "</div>"
      ],
      "text/plain": [
       "      Weight  Height\n",
       "Yoon      72     175\n",
       "Kwon      77     182\n",
       "Shin      52     163\n",
       "Kim       69     170"
      ]
     },
     "execution_count": 15,
     "metadata": {},
     "output_type": "execute_result"
    }
   ],
   "source": [
    "df_body = pd.DataFrame({'Weight': [72, 77, 52, 69],\n",
    "                       'Height': [175, 182, 163, 170]},\n",
    "                       index=['Yoon', 'Kwon', 'Shin', 'Kim'])\n",
    "df_body"
   ]
  },
  {
   "cell_type": "code",
   "execution_count": 17,
   "metadata": {},
   "outputs": [
    {
     "data": {
      "text/html": [
       "<div>\n",
       "<style scoped>\n",
       "    .dataframe tbody tr th:only-of-type {\n",
       "        vertical-align: middle;\n",
       "    }\n",
       "\n",
       "    .dataframe tbody tr th {\n",
       "        vertical-align: top;\n",
       "    }\n",
       "\n",
       "    .dataframe thead th {\n",
       "        text-align: right;\n",
       "    }\n",
       "</style>\n",
       "<table border=\"1\" class=\"dataframe\">\n",
       "  <thead>\n",
       "    <tr style=\"text-align: right;\">\n",
       "      <th></th>\n",
       "      <th>Weight</th>\n",
       "      <th>Height</th>\n",
       "    </tr>\n",
       "    <tr>\n",
       "      <th>User</th>\n",
       "      <th></th>\n",
       "      <th></th>\n",
       "    </tr>\n",
       "  </thead>\n",
       "  <tbody>\n",
       "    <tr>\n",
       "      <th>Yoon</th>\n",
       "      <td>72</td>\n",
       "      <td>175</td>\n",
       "    </tr>\n",
       "    <tr>\n",
       "      <th>Kwon</th>\n",
       "      <td>77</td>\n",
       "      <td>182</td>\n",
       "    </tr>\n",
       "    <tr>\n",
       "      <th>Shin</th>\n",
       "      <td>52</td>\n",
       "      <td>163</td>\n",
       "    </tr>\n",
       "    <tr>\n",
       "      <th>Kim</th>\n",
       "      <td>69</td>\n",
       "      <td>170</td>\n",
       "    </tr>\n",
       "  </tbody>\n",
       "</table>\n",
       "</div>"
      ],
      "text/plain": [
       "      Weight  Height\n",
       "User                \n",
       "Yoon      72     175\n",
       "Kwon      77     182\n",
       "Shin      52     163\n",
       "Kim       69     170"
      ]
     },
     "execution_count": 17,
     "metadata": {},
     "output_type": "execute_result"
    }
   ],
   "source": [
    "df_body.index.name='User'\n",
    "df_body"
   ]
  },
  {
   "cell_type": "code",
   "execution_count": 19,
   "metadata": {},
   "outputs": [
    {
     "data": {
      "text/plain": [
       "User\n",
       "Yoon    23.510204\n",
       "Kwon    23.245985\n",
       "Shin    19.571681\n",
       "Kim     23.875433\n",
       "dtype: float64"
      ]
     },
     "execution_count": 19,
     "metadata": {},
     "output_type": "execute_result"
    }
   ],
   "source": [
    "bmi = df_body['Weight']/(df_body['Height']/100)**2\n",
    "bmi"
   ]
  },
  {
   "cell_type": "code",
   "execution_count": 21,
   "metadata": {},
   "outputs": [
    {
     "data": {
      "text/html": [
       "<div>\n",
       "<style scoped>\n",
       "    .dataframe tbody tr th:only-of-type {\n",
       "        vertical-align: middle;\n",
       "    }\n",
       "\n",
       "    .dataframe tbody tr th {\n",
       "        vertical-align: top;\n",
       "    }\n",
       "\n",
       "    .dataframe thead th {\n",
       "        text-align: right;\n",
       "    }\n",
       "</style>\n",
       "<table border=\"1\" class=\"dataframe\">\n",
       "  <thead>\n",
       "    <tr style=\"text-align: right;\">\n",
       "      <th></th>\n",
       "      <th>Weight</th>\n",
       "      <th>Height</th>\n",
       "      <th>bmi</th>\n",
       "    </tr>\n",
       "    <tr>\n",
       "      <th>User</th>\n",
       "      <th></th>\n",
       "      <th></th>\n",
       "      <th></th>\n",
       "    </tr>\n",
       "  </thead>\n",
       "  <tbody>\n",
       "    <tr>\n",
       "      <th>Yoon</th>\n",
       "      <td>72</td>\n",
       "      <td>175</td>\n",
       "      <td>23.510204</td>\n",
       "    </tr>\n",
       "    <tr>\n",
       "      <th>Kwon</th>\n",
       "      <td>77</td>\n",
       "      <td>182</td>\n",
       "      <td>23.245985</td>\n",
       "    </tr>\n",
       "    <tr>\n",
       "      <th>Shin</th>\n",
       "      <td>52</td>\n",
       "      <td>163</td>\n",
       "      <td>19.571681</td>\n",
       "    </tr>\n",
       "    <tr>\n",
       "      <th>Kim</th>\n",
       "      <td>69</td>\n",
       "      <td>170</td>\n",
       "      <td>23.875433</td>\n",
       "    </tr>\n",
       "  </tbody>\n",
       "</table>\n",
       "</div>"
      ],
      "text/plain": [
       "      Weight  Height        bmi\n",
       "User                           \n",
       "Yoon      72     175  23.510204\n",
       "Kwon      77     182  23.245985\n",
       "Shin      52     163  19.571681\n",
       "Kim       69     170  23.875433"
      ]
     },
     "execution_count": 21,
     "metadata": {},
     "output_type": "execute_result"
    }
   ],
   "source": [
    "df_body['bmi'] = bmi\n",
    "df_body"
   ]
  },
  {
   "cell_type": "code",
   "execution_count": 28,
   "metadata": {
    "scrolled": true
   },
   "outputs": [],
   "source": [
    "df_body.to_csv('C:/Users/admin/Desktop/body.csv')"
   ]
  },
  {
   "cell_type": "code",
   "execution_count": null,
   "metadata": {},
   "outputs": [],
   "source": []
  }
 ],
 "metadata": {
  "kernelspec": {
   "display_name": "Python 3",
   "language": "python",
   "name": "python3"
  },
  "language_info": {
   "codemirror_mode": {
    "name": "ipython",
    "version": 3
   },
   "file_extension": ".py",
   "mimetype": "text/x-python",
   "name": "python",
   "nbconvert_exporter": "python",
   "pygments_lexer": "ipython3",
   "version": "3.7.6"
  }
 },
 "nbformat": 4,
 "nbformat_minor": 4
}
